{
 "cells": [
  {
   "cell_type": "code",
   "execution_count": 258,
   "metadata": {},
   "outputs": [],
   "source": [
    "import pandas as pd\n",
    "import numpy as np\n",
    "import seaborn as sns\n",
    "import matplotlib.pyplot as plt\n",
    "import warnings\n",
    "warnings.filterwarnings('ignore')"
   ]
  },
  {
   "cell_type": "code",
   "execution_count": 259,
   "metadata": {},
   "outputs": [],
   "source": [
    "train=pd.read_csv('big_mart_sales_train.csv')\n",
    "test=pd.read_csv('big_mart_sales_test.csv')"
   ]
  },
  {
   "cell_type": "code",
   "execution_count": 260,
   "metadata": {},
   "outputs": [
    {
     "name": "stdout",
     "output_type": "stream",
     "text": [
      "(8523, 13) (5681, 12) (14204, 13)\n"
     ]
    }
   ],
   "source": [
    "train['source']='big_mart_sales_train.csv'\n",
    "test['source']='big_mart_sales_test.csv'\n",
    "df = pd.concat([train, test],ignore_index=True)\n",
    "print(train.shape, test.shape, df.shape)"
   ]
  },
  {
   "cell_type": "code",
   "execution_count": 261,
   "metadata": {},
   "outputs": [
    {
     "data": {
      "text/html": [
       "<div>\n",
       "<style scoped>\n",
       "    .dataframe tbody tr th:only-of-type {\n",
       "        vertical-align: middle;\n",
       "    }\n",
       "\n",
       "    .dataframe tbody tr th {\n",
       "        vertical-align: top;\n",
       "    }\n",
       "\n",
       "    .dataframe thead th {\n",
       "        text-align: right;\n",
       "    }\n",
       "</style>\n",
       "<table border=\"1\" class=\"dataframe\">\n",
       "  <thead>\n",
       "    <tr style=\"text-align: right;\">\n",
       "      <th></th>\n",
       "      <th>Item_Identifier</th>\n",
       "      <th>Item_Weight</th>\n",
       "      <th>Item_Fat_Content</th>\n",
       "      <th>Item_Visibility</th>\n",
       "      <th>Item_Type</th>\n",
       "      <th>Item_MRP</th>\n",
       "      <th>Outlet_Identifier</th>\n",
       "      <th>Outlet_Establishment_Year</th>\n",
       "      <th>Outlet_Size</th>\n",
       "      <th>Outlet_Location_Type</th>\n",
       "      <th>Outlet_Type</th>\n",
       "      <th>Item_Outlet_Sales</th>\n",
       "      <th>source</th>\n",
       "    </tr>\n",
       "  </thead>\n",
       "  <tbody>\n",
       "    <tr>\n",
       "      <th>0</th>\n",
       "      <td>FDA15</td>\n",
       "      <td>9.30</td>\n",
       "      <td>Low Fat</td>\n",
       "      <td>0.016047</td>\n",
       "      <td>Dairy</td>\n",
       "      <td>249.8092</td>\n",
       "      <td>OUT049</td>\n",
       "      <td>1999</td>\n",
       "      <td>Medium</td>\n",
       "      <td>Tier 1</td>\n",
       "      <td>Supermarket Type1</td>\n",
       "      <td>3735.1380</td>\n",
       "      <td>big_mart_sales_train.csv</td>\n",
       "    </tr>\n",
       "    <tr>\n",
       "      <th>1</th>\n",
       "      <td>DRC01</td>\n",
       "      <td>5.92</td>\n",
       "      <td>Regular</td>\n",
       "      <td>0.019278</td>\n",
       "      <td>Soft Drinks</td>\n",
       "      <td>48.2692</td>\n",
       "      <td>OUT018</td>\n",
       "      <td>2009</td>\n",
       "      <td>Medium</td>\n",
       "      <td>Tier 3</td>\n",
       "      <td>Supermarket Type2</td>\n",
       "      <td>443.4228</td>\n",
       "      <td>big_mart_sales_train.csv</td>\n",
       "    </tr>\n",
       "    <tr>\n",
       "      <th>2</th>\n",
       "      <td>FDN15</td>\n",
       "      <td>17.50</td>\n",
       "      <td>Low Fat</td>\n",
       "      <td>0.016760</td>\n",
       "      <td>Meat</td>\n",
       "      <td>141.6180</td>\n",
       "      <td>OUT049</td>\n",
       "      <td>1999</td>\n",
       "      <td>Medium</td>\n",
       "      <td>Tier 1</td>\n",
       "      <td>Supermarket Type1</td>\n",
       "      <td>2097.2700</td>\n",
       "      <td>big_mart_sales_train.csv</td>\n",
       "    </tr>\n",
       "    <tr>\n",
       "      <th>3</th>\n",
       "      <td>FDX07</td>\n",
       "      <td>19.20</td>\n",
       "      <td>Regular</td>\n",
       "      <td>0.000000</td>\n",
       "      <td>Fruits and Vegetables</td>\n",
       "      <td>182.0950</td>\n",
       "      <td>OUT010</td>\n",
       "      <td>1998</td>\n",
       "      <td>NaN</td>\n",
       "      <td>Tier 3</td>\n",
       "      <td>Grocery Store</td>\n",
       "      <td>732.3800</td>\n",
       "      <td>big_mart_sales_train.csv</td>\n",
       "    </tr>\n",
       "    <tr>\n",
       "      <th>4</th>\n",
       "      <td>NCD19</td>\n",
       "      <td>8.93</td>\n",
       "      <td>Low Fat</td>\n",
       "      <td>0.000000</td>\n",
       "      <td>Household</td>\n",
       "      <td>53.8614</td>\n",
       "      <td>OUT013</td>\n",
       "      <td>1987</td>\n",
       "      <td>High</td>\n",
       "      <td>Tier 3</td>\n",
       "      <td>Supermarket Type1</td>\n",
       "      <td>994.7052</td>\n",
       "      <td>big_mart_sales_train.csv</td>\n",
       "    </tr>\n",
       "  </tbody>\n",
       "</table>\n",
       "</div>"
      ],
      "text/plain": [
       "  Item_Identifier  Item_Weight Item_Fat_Content  Item_Visibility  \\\n",
       "0           FDA15         9.30          Low Fat         0.016047   \n",
       "1           DRC01         5.92          Regular         0.019278   \n",
       "2           FDN15        17.50          Low Fat         0.016760   \n",
       "3           FDX07        19.20          Regular         0.000000   \n",
       "4           NCD19         8.93          Low Fat         0.000000   \n",
       "\n",
       "               Item_Type  Item_MRP Outlet_Identifier  \\\n",
       "0                  Dairy  249.8092            OUT049   \n",
       "1            Soft Drinks   48.2692            OUT018   \n",
       "2                   Meat  141.6180            OUT049   \n",
       "3  Fruits and Vegetables  182.0950            OUT010   \n",
       "4              Household   53.8614            OUT013   \n",
       "\n",
       "   Outlet_Establishment_Year Outlet_Size Outlet_Location_Type  \\\n",
       "0                       1999      Medium               Tier 1   \n",
       "1                       2009      Medium               Tier 3   \n",
       "2                       1999      Medium               Tier 1   \n",
       "3                       1998         NaN               Tier 3   \n",
       "4                       1987        High               Tier 3   \n",
       "\n",
       "         Outlet_Type  Item_Outlet_Sales                    source  \n",
       "0  Supermarket Type1          3735.1380  big_mart_sales_train.csv  \n",
       "1  Supermarket Type2           443.4228  big_mart_sales_train.csv  \n",
       "2  Supermarket Type1          2097.2700  big_mart_sales_train.csv  \n",
       "3      Grocery Store           732.3800  big_mart_sales_train.csv  \n",
       "4  Supermarket Type1           994.7052  big_mart_sales_train.csv  "
      ]
     },
     "execution_count": 261,
     "metadata": {},
     "output_type": "execute_result"
    }
   ],
   "source": [
    "df.head()"
   ]
  },
  {
   "cell_type": "code",
   "execution_count": 262,
   "metadata": {},
   "outputs": [
    {
     "data": {
      "text/plain": [
       "Index(['Item_Identifier', 'Item_Weight', 'Item_Fat_Content', 'Item_Visibility',\n",
       "       'Item_Type', 'Item_MRP', 'Outlet_Identifier',\n",
       "       'Outlet_Establishment_Year', 'Outlet_Size', 'Outlet_Location_Type',\n",
       "       'Outlet_Type', 'Item_Outlet_Sales', 'source'],\n",
       "      dtype='object')"
      ]
     },
     "execution_count": 262,
     "metadata": {},
     "output_type": "execute_result"
    }
   ],
   "source": [
    "df.columns"
   ]
  },
  {
   "cell_type": "code",
   "execution_count": 263,
   "metadata": {},
   "outputs": [
    {
     "data": {
      "text/plain": [
       "Item_Identifier               object\n",
       "Item_Weight                  float64\n",
       "Item_Fat_Content              object\n",
       "Item_Visibility              float64\n",
       "Item_Type                     object\n",
       "Item_MRP                     float64\n",
       "Outlet_Identifier             object\n",
       "Outlet_Establishment_Year      int64\n",
       "Outlet_Size                   object\n",
       "Outlet_Location_Type          object\n",
       "Outlet_Type                   object\n",
       "Item_Outlet_Sales            float64\n",
       "source                        object\n",
       "dtype: object"
      ]
     },
     "execution_count": 263,
     "metadata": {},
     "output_type": "execute_result"
    }
   ],
   "source": [
    "df.dtypes"
   ]
  },
  {
   "cell_type": "code",
   "execution_count": 264,
   "metadata": {},
   "outputs": [
    {
     "name": "stdout",
     "output_type": "stream",
     "text": [
      "<class 'pandas.core.frame.DataFrame'>\n",
      "RangeIndex: 14204 entries, 0 to 14203\n",
      "Data columns (total 13 columns):\n",
      " #   Column                     Non-Null Count  Dtype  \n",
      "---  ------                     --------------  -----  \n",
      " 0   Item_Identifier            14204 non-null  object \n",
      " 1   Item_Weight                11765 non-null  float64\n",
      " 2   Item_Fat_Content           14204 non-null  object \n",
      " 3   Item_Visibility            14204 non-null  float64\n",
      " 4   Item_Type                  14204 non-null  object \n",
      " 5   Item_MRP                   14204 non-null  float64\n",
      " 6   Outlet_Identifier          14204 non-null  object \n",
      " 7   Outlet_Establishment_Year  14204 non-null  int64  \n",
      " 8   Outlet_Size                10188 non-null  object \n",
      " 9   Outlet_Location_Type       14204 non-null  object \n",
      " 10  Outlet_Type                14204 non-null  object \n",
      " 11  Item_Outlet_Sales          8523 non-null   float64\n",
      " 12  source                     14204 non-null  object \n",
      "dtypes: float64(4), int64(1), object(8)\n",
      "memory usage: 1.4+ MB\n"
     ]
    }
   ],
   "source": [
    "df.info()"
   ]
  },
  {
   "cell_type": "code",
   "execution_count": 265,
   "metadata": {},
   "outputs": [
    {
     "data": {
      "text/html": [
       "<div>\n",
       "<style scoped>\n",
       "    .dataframe tbody tr th:only-of-type {\n",
       "        vertical-align: middle;\n",
       "    }\n",
       "\n",
       "    .dataframe tbody tr th {\n",
       "        vertical-align: top;\n",
       "    }\n",
       "\n",
       "    .dataframe thead th {\n",
       "        text-align: right;\n",
       "    }\n",
       "</style>\n",
       "<table border=\"1\" class=\"dataframe\">\n",
       "  <thead>\n",
       "    <tr style=\"text-align: right;\">\n",
       "      <th></th>\n",
       "      <th>Item_Weight</th>\n",
       "      <th>Item_Visibility</th>\n",
       "      <th>Item_MRP</th>\n",
       "      <th>Outlet_Establishment_Year</th>\n",
       "      <th>Item_Outlet_Sales</th>\n",
       "    </tr>\n",
       "  </thead>\n",
       "  <tbody>\n",
       "    <tr>\n",
       "      <th>count</th>\n",
       "      <td>11765.000000</td>\n",
       "      <td>14204.000000</td>\n",
       "      <td>14204.000000</td>\n",
       "      <td>14204.000000</td>\n",
       "      <td>8523.000000</td>\n",
       "    </tr>\n",
       "    <tr>\n",
       "      <th>mean</th>\n",
       "      <td>12.792854</td>\n",
       "      <td>0.065953</td>\n",
       "      <td>141.004977</td>\n",
       "      <td>1997.830681</td>\n",
       "      <td>2181.288914</td>\n",
       "    </tr>\n",
       "    <tr>\n",
       "      <th>std</th>\n",
       "      <td>4.652502</td>\n",
       "      <td>0.051459</td>\n",
       "      <td>62.086938</td>\n",
       "      <td>8.371664</td>\n",
       "      <td>1706.499616</td>\n",
       "    </tr>\n",
       "    <tr>\n",
       "      <th>min</th>\n",
       "      <td>4.555000</td>\n",
       "      <td>0.000000</td>\n",
       "      <td>31.290000</td>\n",
       "      <td>1985.000000</td>\n",
       "      <td>33.290000</td>\n",
       "    </tr>\n",
       "    <tr>\n",
       "      <th>25%</th>\n",
       "      <td>8.710000</td>\n",
       "      <td>0.027036</td>\n",
       "      <td>94.012000</td>\n",
       "      <td>1987.000000</td>\n",
       "      <td>834.247400</td>\n",
       "    </tr>\n",
       "    <tr>\n",
       "      <th>50%</th>\n",
       "      <td>12.600000</td>\n",
       "      <td>0.054021</td>\n",
       "      <td>142.247000</td>\n",
       "      <td>1999.000000</td>\n",
       "      <td>1794.331000</td>\n",
       "    </tr>\n",
       "    <tr>\n",
       "      <th>75%</th>\n",
       "      <td>16.750000</td>\n",
       "      <td>0.094037</td>\n",
       "      <td>185.855600</td>\n",
       "      <td>2004.000000</td>\n",
       "      <td>3101.296400</td>\n",
       "    </tr>\n",
       "    <tr>\n",
       "      <th>max</th>\n",
       "      <td>21.350000</td>\n",
       "      <td>0.328391</td>\n",
       "      <td>266.888400</td>\n",
       "      <td>2009.000000</td>\n",
       "      <td>13086.964800</td>\n",
       "    </tr>\n",
       "  </tbody>\n",
       "</table>\n",
       "</div>"
      ],
      "text/plain": [
       "        Item_Weight  Item_Visibility      Item_MRP  Outlet_Establishment_Year  \\\n",
       "count  11765.000000     14204.000000  14204.000000               14204.000000   \n",
       "mean      12.792854         0.065953    141.004977                1997.830681   \n",
       "std        4.652502         0.051459     62.086938                   8.371664   \n",
       "min        4.555000         0.000000     31.290000                1985.000000   \n",
       "25%        8.710000         0.027036     94.012000                1987.000000   \n",
       "50%       12.600000         0.054021    142.247000                1999.000000   \n",
       "75%       16.750000         0.094037    185.855600                2004.000000   \n",
       "max       21.350000         0.328391    266.888400                2009.000000   \n",
       "\n",
       "       Item_Outlet_Sales  \n",
       "count        8523.000000  \n",
       "mean         2181.288914  \n",
       "std          1706.499616  \n",
       "min            33.290000  \n",
       "25%           834.247400  \n",
       "50%          1794.331000  \n",
       "75%          3101.296400  \n",
       "max         13086.964800  "
      ]
     },
     "execution_count": 265,
     "metadata": {},
     "output_type": "execute_result"
    }
   ],
   "source": [
    "df.describe()"
   ]
  },
  {
   "cell_type": "code",
   "execution_count": 266,
   "metadata": {},
   "outputs": [
    {
     "data": {
      "text/plain": [
       "Item_Identifier                 0\n",
       "Item_Weight                  2439\n",
       "Item_Fat_Content                0\n",
       "Item_Visibility                 0\n",
       "Item_Type                       0\n",
       "Item_MRP                        0\n",
       "Outlet_Identifier               0\n",
       "Outlet_Establishment_Year       0\n",
       "Outlet_Size                  4016\n",
       "Outlet_Location_Type            0\n",
       "Outlet_Type                     0\n",
       "Item_Outlet_Sales            5681\n",
       "source                          0\n",
       "dtype: int64"
      ]
     },
     "execution_count": 266,
     "metadata": {},
     "output_type": "execute_result"
    }
   ],
   "source": [
    "df.isnull().sum()"
   ]
  },
  {
   "cell_type": "raw",
   "metadata": {},
   "source": [
    "dataset has missing values"
   ]
  },
  {
   "cell_type": "code",
   "execution_count": 267,
   "metadata": {},
   "outputs": [
    {
     "data": {
      "text/plain": [
       "12.792854228644991"
      ]
     },
     "execution_count": 267,
     "metadata": {},
     "output_type": "execute_result"
    }
   ],
   "source": [
    "mean=df['Item_Weight'].mean()\n",
    "mean"
   ]
  },
  {
   "cell_type": "code",
   "execution_count": 268,
   "metadata": {},
   "outputs": [],
   "source": [
    "df['Item_Weight'].fillna(mean,inplace=True)"
   ]
  },
  {
   "cell_type": "code",
   "execution_count": 269,
   "metadata": {},
   "outputs": [
    {
     "data": {
      "text/plain": [
       "'Medium'"
      ]
     },
     "execution_count": 269,
     "metadata": {},
     "output_type": "execute_result"
    }
   ],
   "source": [
    "mode=df['Outlet_Size'].mode()\n",
    "mode[0]"
   ]
  },
  {
   "cell_type": "code",
   "execution_count": 270,
   "metadata": {},
   "outputs": [
    {
     "data": {
      "text/plain": [
       "array(['Medium', nan, 'High', 'Small'], dtype=object)"
      ]
     },
     "execution_count": 270,
     "metadata": {},
     "output_type": "execute_result"
    }
   ],
   "source": [
    "df['Outlet_Size'].unique()"
   ]
  },
  {
   "cell_type": "code",
   "execution_count": 271,
   "metadata": {},
   "outputs": [],
   "source": [
    "df['Outlet_Size'].fillna(mode[0],inplace=True)"
   ]
  },
  {
   "cell_type": "code",
   "execution_count": 272,
   "metadata": {},
   "outputs": [
    {
     "data": {
      "text/plain": [
       "array(['Medium', 'High', 'Small'], dtype=object)"
      ]
     },
     "execution_count": 272,
     "metadata": {},
     "output_type": "execute_result"
    }
   ],
   "source": [
    "df['Outlet_Size'].unique()"
   ]
  },
  {
   "cell_type": "code",
   "execution_count": 273,
   "metadata": {},
   "outputs": [
    {
     "data": {
      "text/plain": [
       "2181.2889135750365"
      ]
     },
     "execution_count": 273,
     "metadata": {},
     "output_type": "execute_result"
    }
   ],
   "source": [
    "mean=df['Item_Outlet_Sales'].mean()\n",
    "mean"
   ]
  },
  {
   "cell_type": "code",
   "execution_count": 274,
   "metadata": {},
   "outputs": [],
   "source": [
    "df['Item_Outlet_Sales'].fillna(mean,inplace=True)"
   ]
  },
  {
   "cell_type": "code",
   "execution_count": 275,
   "metadata": {},
   "outputs": [
    {
     "data": {
      "text/plain": [
       "Item_Identifier              0\n",
       "Item_Weight                  0\n",
       "Item_Fat_Content             0\n",
       "Item_Visibility              0\n",
       "Item_Type                    0\n",
       "Item_MRP                     0\n",
       "Outlet_Identifier            0\n",
       "Outlet_Establishment_Year    0\n",
       "Outlet_Size                  0\n",
       "Outlet_Location_Type         0\n",
       "Outlet_Type                  0\n",
       "Item_Outlet_Sales            0\n",
       "source                       0\n",
       "dtype: int64"
      ]
     },
     "execution_count": 275,
     "metadata": {},
     "output_type": "execute_result"
    }
   ],
   "source": [
    "df.isnull().sum()"
   ]
  },
  {
   "cell_type": "raw",
   "metadata": {},
   "source": [
    "#All missing values are gone"
   ]
  },
  {
   "cell_type": "code",
   "execution_count": 276,
   "metadata": {},
   "outputs": [
    {
     "data": {
      "image/png": "[encoded data removed]",
      "text/plain": [
       "<Figure size 432x288 with 1 Axes>"
      ]
     },
     "metadata": {
      "needs_background": "light"
     },
     "output_type": "display_data"
    },
    {
     "data": {
      "image/png": "[encoded data removed]",
      "text/plain": [
       "<Figure size 432x288 with 1 Axes>"
      ]
     },
     "metadata": {
      "needs_background": "light"
     },
     "output_type": "display_data"
    },
    {
     "data": {
      "image/png": "[encoded data removed]",
      "text/plain": [
       "<Figure size 432x288 with 1 Axes>"
      ]
     },
     "metadata": {
      "needs_background": "light"
     },
     "output_type": "display_data"
    },
    {
     "data": {
      "image/png": "[encoded data removed]",
      "text/plain": [
       "<Figure size 432x288 with 1 Axes>"
      ]
     },
     "metadata": {
      "needs_background": "light"
     },
     "output_type": "display_data"
    },
    {
     "data": {
      "image/png": "[encoded data removed]",
      "text/plain": [
       "<Figure size 432x288 with 1 Axes>"
      ]
     },
     "metadata": {
      "needs_background": "light"
     },
     "output_type": "display_data"
    }
   ],
   "source": [
    "for i in df.describe().columns:\n",
    "    sns.distplot(df[i])\n",
    "    plt.show()"
   ]
  },
  {
   "cell_type": "code",
   "execution_count": 277,
   "metadata": {},
   "outputs": [
    {
     "data": {
      "text/plain": [
       "(array([ 0,  1,  2,  3,  4,  5,  6,  7,  8,  9, 10, 11, 12, 13, 14, 15]),\n",
       " <a list of 16 Text xticklabel objects>)"
      ]
     },
     "execution_count": 277,
     "metadata": {},
     "output_type": "execute_result"
    },
    {
     "data": {
      "image/png": "[encoded data removed]",
      "text/plain": [
       "<Figure size 1080x720 with 1 Axes>"
      ]
     },
     "metadata": {
      "needs_background": "light"
     },
     "output_type": "display_data"
    }
   ],
   "source": [
    "plt.figure(figsize=(15,10))\n",
    "sns.countplot(df['Item_Type'])\n",
    "plt.xticks(rotation=90)#visualization of item types by count"
   ]
  },
  {
   "cell_type": "code",
   "execution_count": 278,
   "metadata": {},
   "outputs": [
    {
     "data": {
      "text/plain": [
       "<matplotlib.axes._subplots.AxesSubplot at 0x2761c27b808>"
      ]
     },
     "execution_count": 278,
     "metadata": {},
     "output_type": "execute_result"
    },
    {
     "data": {
      "image/png": "[encoded data removed]",
      "text/plain": [
       "<Figure size 720x576 with 1 Axes>"
      ]
     },
     "metadata": {
      "needs_background": "light"
     },
     "output_type": "display_data"
    }
   ],
   "source": [
    "plt.figure(figsize=(10,8))\n",
    "sns.countplot(df['Outlet_Size'])#visualization of outlet sizes showing there are medium types"
   ]
  },
  {
   "cell_type": "code",
   "execution_count": 279,
   "metadata": {},
   "outputs": [
    {
     "data": {
      "text/plain": [
       "<matplotlib.axes._subplots.AxesSubplot at 0x2761c115888>"
      ]
     },
     "execution_count": 279,
     "metadata": {},
     "output_type": "execute_result"
    },
    {
     "data": {
      "image/png": "[encoded data removed]",
      "text/plain": [
       "<Figure size 720x576 with 1 Axes>"
      ]
     },
     "metadata": {
      "needs_background": "light"
     },
     "output_type": "display_data"
    }
   ],
   "source": [
    "plt.figure(figsize=(10,8))\n",
    "sns.countplot(df['Outlet_Location_Type'])#tier 3 type store is more"
   ]
  },
  {
   "cell_type": "code",
   "execution_count": 280,
   "metadata": {},
   "outputs": [
    {
     "data": {
      "text/plain": [
       "<matplotlib.axes._subplots.AxesSubplot at 0x2761c1b4f88>"
      ]
     },
     "execution_count": 280,
     "metadata": {},
     "output_type": "execute_result"
    },
    {
     "data": {
      "image/png": "[encoded data removed]",
      "text/plain": [
       "<Figure size 720x576 with 1 Axes>"
      ]
     },
     "metadata": {
      "needs_background": "light"
     },
     "output_type": "display_data"
    }
   ],
   "source": [
    "plt.figure(figsize=(10,8))\n",
    "sns.countplot(df['Outlet_Type'])#supermarket type is most common"
   ]
  },
  {
   "cell_type": "code",
   "execution_count": 281,
   "metadata": {},
   "outputs": [
    {
     "data": {
      "text/plain": [
       "array(['LF', 'Low Fat', 'Regular', 'low fat', 'reg'], dtype=object)"
      ]
     },
     "execution_count": 281,
     "metadata": {},
     "output_type": "execute_result"
    }
   ],
   "source": [
    "#checking distinct entries\n",
    "np.unique(df['Item_Fat_Content'])"
   ]
  },
  {
   "cell_type": "code",
   "execution_count": 282,
   "metadata": {},
   "outputs": [
    {
     "data": {
      "text/plain": [
       "array(['Baking Goods', 'Breads', 'Breakfast', 'Canned', 'Dairy',\n",
       "       'Frozen Foods', 'Fruits and Vegetables', 'Hard Drinks',\n",
       "       'Health and Hygiene', 'Household', 'Meat', 'Others', 'Seafood',\n",
       "       'Snack Foods', 'Soft Drinks', 'Starchy Foods'], dtype=object)"
      ]
     },
     "execution_count": 282,
     "metadata": {},
     "output_type": "execute_result"
    }
   ],
   "source": [
    "np.unique(df['Item_Type'])"
   ]
  },
  {
   "cell_type": "code",
   "execution_count": 283,
   "metadata": {},
   "outputs": [
    {
     "data": {
      "text/plain": [
       "array(['OUT010', 'OUT013', 'OUT017', 'OUT018', 'OUT019', 'OUT027',\n",
       "       'OUT035', 'OUT045', 'OUT046', 'OUT049'], dtype=object)"
      ]
     },
     "execution_count": 283,
     "metadata": {},
     "output_type": "execute_result"
    }
   ],
   "source": [
    "np.unique(df['Outlet_Identifier'])"
   ]
  },
  {
   "cell_type": "code",
   "execution_count": 284,
   "metadata": {},
   "outputs": [
    {
     "data": {
      "text/plain": [
       "array(['Medium', 'High', 'Small'], dtype=object)"
      ]
     },
     "execution_count": 284,
     "metadata": {},
     "output_type": "execute_result"
    }
   ],
   "source": [
    "df['Outlet_Size'].unique()"
   ]
  },
  {
   "cell_type": "code",
   "execution_count": 285,
   "metadata": {},
   "outputs": [
    {
     "data": {
      "text/plain": [
       "array(['Grocery Store', 'Supermarket Type1', 'Supermarket Type2',\n",
       "       'Supermarket Type3'], dtype=object)"
      ]
     },
     "execution_count": 285,
     "metadata": {},
     "output_type": "execute_result"
    }
   ],
   "source": [
    "np.unique(df['Outlet_Type'])"
   ]
  },
  {
   "cell_type": "code",
   "execution_count": 286,
   "metadata": {},
   "outputs": [],
   "source": [
    "df['Item_Fat_Content']=df['Item_Fat_Content'].replace('LF','Low Fat')"
   ]
  },
  {
   "cell_type": "code",
   "execution_count": 287,
   "metadata": {},
   "outputs": [],
   "source": [
    "df['Item_Fat_Content']=df['Item_Fat_Content'].replace('low fat','Low Fat')"
   ]
  },
  {
   "cell_type": "code",
   "execution_count": 288,
   "metadata": {},
   "outputs": [],
   "source": [
    "df['Item_Fat_Content']=df['Item_Fat_Content'].replace('reg','Regular')"
   ]
  },
  {
   "cell_type": "code",
   "execution_count": 289,
   "metadata": {},
   "outputs": [
    {
     "data": {
      "text/plain": [
       "array(['Low Fat', 'Regular'], dtype=object)"
      ]
     },
     "execution_count": 289,
     "metadata": {},
     "output_type": "execute_result"
    }
   ],
   "source": [
    "np.unique(df['Item_Fat_Content'])"
   ]
  },
  {
   "cell_type": "code",
   "execution_count": 304,
   "metadata": {},
   "outputs": [],
   "source": [
    "from sklearn.preprocessing import LabelEncoder\n",
    "le = LabelEncoder()\n",
    "df['Item_Fat_Content'] = le.fit_transform(df['Item_Fat_Content']) \n",
    "df['Item_Type'] = le.fit_transform(df['Item_Type']) \n",
    "df['Outlet_Identifier'] = le.fit_transform(df['Outlet_Identifier']) \n",
    "df['Outlet_Size'] = le.fit_transform(df['Outlet_Size']) \n",
    "df['Outlet_Type'] = le.fit_transform(df['Outlet_Type']) \n",
    "df['Outlet_Location_Type'] = le.fit_transform(df['Outlet_Location_Type']) "
   ]
  },
  {
   "cell_type": "code",
   "execution_count": 305,
   "metadata": {},
   "outputs": [
    {
     "data": {
      "text/html": [
       "<div>\n",
       "<style scoped>\n",
       "    .dataframe tbody tr th:only-of-type {\n",
       "        vertical-align: middle;\n",
       "    }\n",
       "\n",
       "    .dataframe tbody tr th {\n",
       "        vertical-align: top;\n",
       "    }\n",
       "\n",
       "    .dataframe thead th {\n",
       "        text-align: right;\n",
       "    }\n",
       "</style>\n",
       "<table border=\"1\" class=\"dataframe\">\n",
       "  <thead>\n",
       "    <tr style=\"text-align: right;\">\n",
       "      <th></th>\n",
       "      <th>Item_Identifier</th>\n",
       "      <th>Item_Weight</th>\n",
       "      <th>Item_Fat_Content</th>\n",
       "      <th>Item_Visibility</th>\n",
       "      <th>Item_Type</th>\n",
       "      <th>Item_MRP</th>\n",
       "      <th>Outlet_Identifier</th>\n",
       "      <th>Outlet_Establishment_Year</th>\n",
       "      <th>Outlet_Size</th>\n",
       "      <th>Outlet_Location_Type</th>\n",
       "      <th>Outlet_Type</th>\n",
       "      <th>Item_Outlet_Sales</th>\n",
       "      <th>source</th>\n",
       "    </tr>\n",
       "  </thead>\n",
       "  <tbody>\n",
       "    <tr>\n",
       "      <th>0</th>\n",
       "      <td>FDA15</td>\n",
       "      <td>9.30</td>\n",
       "      <td>0</td>\n",
       "      <td>0.016047</td>\n",
       "      <td>4</td>\n",
       "      <td>249.8092</td>\n",
       "      <td>9</td>\n",
       "      <td>1999</td>\n",
       "      <td>1</td>\n",
       "      <td>0</td>\n",
       "      <td>1</td>\n",
       "      <td>3735.1380</td>\n",
       "      <td>big_mart_sales_train.csv</td>\n",
       "    </tr>\n",
       "    <tr>\n",
       "      <th>1</th>\n",
       "      <td>DRC01</td>\n",
       "      <td>5.92</td>\n",
       "      <td>1</td>\n",
       "      <td>0.019278</td>\n",
       "      <td>14</td>\n",
       "      <td>48.2692</td>\n",
       "      <td>3</td>\n",
       "      <td>2009</td>\n",
       "      <td>1</td>\n",
       "      <td>2</td>\n",
       "      <td>2</td>\n",
       "      <td>443.4228</td>\n",
       "      <td>big_mart_sales_train.csv</td>\n",
       "    </tr>\n",
       "    <tr>\n",
       "      <th>2</th>\n",
       "      <td>FDN15</td>\n",
       "      <td>17.50</td>\n",
       "      <td>0</td>\n",
       "      <td>0.016760</td>\n",
       "      <td>10</td>\n",
       "      <td>141.6180</td>\n",
       "      <td>9</td>\n",
       "      <td>1999</td>\n",
       "      <td>1</td>\n",
       "      <td>0</td>\n",
       "      <td>1</td>\n",
       "      <td>2097.2700</td>\n",
       "      <td>big_mart_sales_train.csv</td>\n",
       "    </tr>\n",
       "    <tr>\n",
       "      <th>3</th>\n",
       "      <td>FDX07</td>\n",
       "      <td>19.20</td>\n",
       "      <td>1</td>\n",
       "      <td>0.000000</td>\n",
       "      <td>6</td>\n",
       "      <td>182.0950</td>\n",
       "      <td>0</td>\n",
       "      <td>1998</td>\n",
       "      <td>1</td>\n",
       "      <td>2</td>\n",
       "      <td>0</td>\n",
       "      <td>732.3800</td>\n",
       "      <td>big_mart_sales_train.csv</td>\n",
       "    </tr>\n",
       "    <tr>\n",
       "      <th>4</th>\n",
       "      <td>NCD19</td>\n",
       "      <td>8.93</td>\n",
       "      <td>0</td>\n",
       "      <td>0.000000</td>\n",
       "      <td>9</td>\n",
       "      <td>53.8614</td>\n",
       "      <td>1</td>\n",
       "      <td>1987</td>\n",
       "      <td>0</td>\n",
       "      <td>2</td>\n",
       "      <td>1</td>\n",
       "      <td>994.7052</td>\n",
       "      <td>big_mart_sales_train.csv</td>\n",
       "    </tr>\n",
       "  </tbody>\n",
       "</table>\n",
       "</div>"
      ],
      "text/plain": [
       "  Item_Identifier  Item_Weight  Item_Fat_Content  Item_Visibility  Item_Type  \\\n",
       "0           FDA15         9.30                 0         0.016047          4   \n",
       "1           DRC01         5.92                 1         0.019278         14   \n",
       "2           FDN15        17.50                 0         0.016760         10   \n",
       "3           FDX07        19.20                 1         0.000000          6   \n",
       "4           NCD19         8.93                 0         0.000000          9   \n",
       "\n",
       "   Item_MRP  Outlet_Identifier  Outlet_Establishment_Year  Outlet_Size  \\\n",
       "0  249.8092                  9                       1999            1   \n",
       "1   48.2692                  3                       2009            1   \n",
       "2  141.6180                  9                       1999            1   \n",
       "3  182.0950                  0                       1998            1   \n",
       "4   53.8614                  1                       1987            0   \n",
       "\n",
       "   Outlet_Location_Type  Outlet_Type  Item_Outlet_Sales  \\\n",
       "0                     0            1          3735.1380   \n",
       "1                     2            2           443.4228   \n",
       "2                     0            1          2097.2700   \n",
       "3                     2            0           732.3800   \n",
       "4                     2            1           994.7052   \n",
       "\n",
       "                     source  \n",
       "0  big_mart_sales_train.csv  \n",
       "1  big_mart_sales_train.csv  \n",
       "2  big_mart_sales_train.csv  \n",
       "3  big_mart_sales_train.csv  \n",
       "4  big_mart_sales_train.csv  "
      ]
     },
     "execution_count": 305,
     "metadata": {},
     "output_type": "execute_result"
    }
   ],
   "source": [
    "df.head()"
   ]
  },
  {
   "cell_type": "code",
   "execution_count": 292,
   "metadata": {},
   "outputs": [
    {
     "data": {
      "text/plain": [
       "Item_Identifier               object\n",
       "Item_Weight                  float64\n",
       "Item_Fat_Content               int32\n",
       "Item_Visibility              float64\n",
       "Item_Type                      int32\n",
       "Item_MRP                     float64\n",
       "Outlet_Identifier              int32\n",
       "Outlet_Establishment_Year      int64\n",
       "Outlet_Size                    int32\n",
       "Outlet_Location_Type          object\n",
       "Outlet_Type                    int32\n",
       "Item_Outlet_Sales            float64\n",
       "source                        object\n",
       "dtype: object"
      ]
     },
     "execution_count": 292,
     "metadata": {},
     "output_type": "execute_result"
    }
   ],
   "source": [
    "df.dtypes"
   ]
  },
  {
   "cell_type": "raw",
   "metadata": {},
   "source": [
    "Observations:\n",
    "Missing values have been filled with the mean for continious variable and mode for catogorical variables\n",
    "Object dtype columns have been converted to int32\n",
    "Item_Identifier will be dropped"
   ]
  },
  {
   "cell_type": "code",
   "execution_count": 255,
   "metadata": {},
   "outputs": [],
   "source": [
    "df.drop('Item_Identifier',axis=1,inplace=True) # second thing, if using inplace you dont have to store it in any variable, it will automatically save data within that variable"
   ]
  },
  {
   "cell_type": "code",
   "execution_count": 256,
   "metadata": {},
   "outputs": [],
   "source": [
    "# df=pd.DataFrame #change df to dataframe"
   ]
  },
  {
   "cell_type": "code",
   "execution_count": 293,
   "metadata": {},
   "outputs": [
    {
     "data": {
      "text/plain": [
       "pandas.core.frame.DataFrame"
      ]
     },
     "execution_count": 293,
     "metadata": {},
     "output_type": "execute_result"
    }
   ],
   "source": [
    "type(df)"
   ]
  },
  {
   "cell_type": "code",
   "execution_count": null,
   "metadata": {},
   "outputs": [],
   "source": [
    "# It is showing error because, you cannot plot heatmaps out of anything"
   ]
  },
  {
   "cell_type": "code",
   "execution_count": 300,
   "metadata": {},
   "outputs": [
    {
     "data": {
      "text/plain": [
       "<matplotlib.axes._subplots.AxesSubplot at 0x2761cc13048>"
      ]
     },
     "execution_count": 300,
     "metadata": {},
     "output_type": "execute_result"
    },
    {
     "data": {
      "image/png": "[encoded data removed]",
      "text/plain": [
       "<Figure size 720x576 with 2 Axes>"
      ]
     },
     "metadata": {
      "needs_background": "light"
     },
     "output_type": "display_data"
    }
   ],
   "source": [
    "corr = df.corr()\n",
    "plt.figure(figsize = (10,8))\n",
    "sns.heatmap(corr, annot = True)"
   ]
  },
  {
   "cell_type": "code",
   "execution_count": 301,
   "metadata": {
    "scrolled": true
   },
   "outputs": [],
   "source": [
    "# sns.heatmap(df) # heat map is best used when you plot the correlation of data"
   ]
  },
  {
   "cell_type": "code",
   "execution_count": 306,
   "metadata": {},
   "outputs": [],
   "source": [
    "df1 = df.copy(deep = True) #study about deep copy and shallow copy in python, important question"
   ]
  },
  {
   "cell_type": "code",
   "execution_count": 307,
   "metadata": {
    "scrolled": true
   },
   "outputs": [
    {
     "data": {
      "text/plain": [
       "Item_Identifier               object\n",
       "Item_Weight                  float64\n",
       "Item_Fat_Content               int64\n",
       "Item_Visibility              float64\n",
       "Item_Type                      int64\n",
       "Item_MRP                     float64\n",
       "Outlet_Identifier              int64\n",
       "Outlet_Establishment_Year      int64\n",
       "Outlet_Size                    int64\n",
       "Outlet_Location_Type           int32\n",
       "Outlet_Type                    int64\n",
       "Item_Outlet_Sales            float64\n",
       "source                        object\n",
       "dtype: object"
      ]
     },
     "execution_count": 307,
     "metadata": {},
     "output_type": "execute_result"
    }
   ],
   "source": [
    "df.dtypes"
   ]
  },
  {
   "cell_type": "code",
   "execution_count": 309,
   "metadata": {},
   "outputs": [],
   "source": [
    "df = df.drop([\"Item_Identifier\",\"source\"], axis = 1)"
   ]
  },
  {
   "cell_type": "code",
   "execution_count": 310,
   "metadata": {},
   "outputs": [
    {
     "name": "stdout",
     "output_type": "stream",
     "text": [
      "(14204, 11)\n",
      "(13780, 11)\n"
     ]
    }
   ],
   "source": [
    "from scipy.stats import zscore\n",
    "z_score=abs(zscore(df))\n",
    "print(df.shape)\n",
    "df_new=df.loc[(z_score<3).all(axis=1)]\n",
    "print(df_new.shape)"
   ]
  },
  {
   "cell_type": "code",
   "execution_count": 311,
   "metadata": {},
   "outputs": [
    {
     "data": {
      "text/plain": [
       "Item_Weight                  0.110093\n",
       "Item_Fat_Content             0.618029\n",
       "Item_Visibility              0.795510\n",
       "Item_Type                    0.094745\n",
       "Item_MRP                     0.149494\n",
       "Outlet_Identifier           -0.065404\n",
       "Outlet_Establishment_Year   -0.425040\n",
       "Outlet_Size                 -0.088902\n",
       "Outlet_Location_Type        -0.201003\n",
       "Outlet_Type                  0.959037\n",
       "Item_Outlet_Sales            0.787488\n",
       "dtype: float64"
      ]
     },
     "execution_count": 311,
     "metadata": {},
     "output_type": "execute_result"
    }
   ],
   "source": [
    "df_new.skew()# checking skewness # remove the skewness using log1p, cbrt, sqrt, square, boxcox, extra: read about negative and positive skewness and how to remove\n"
   ]
  },
  {
   "cell_type": "code",
   "execution_count": 199,
   "metadata": {},
   "outputs": [
    {
     "ename": "NameError",
     "evalue": "name 'df_new' is not defined",
     "output_type": "error",
     "traceback": [
      "\u001b[1;31m---------------------------------------------------------------------------\u001b[0m",
      "\u001b[1;31mNameError\u001b[0m                                 Traceback (most recent call last)",
      "\u001b[1;32m<ipython-input-199-f6fd42f346d9>\u001b[0m in \u001b[0;36m<module>\u001b[1;34m\u001b[0m\n\u001b[1;32m----> 1\u001b[1;33m \u001b[0mtrain\u001b[0m \u001b[1;33m=\u001b[0m \u001b[0mdf_new\u001b[0m\u001b[1;33m.\u001b[0m\u001b[0mloc\u001b[0m\u001b[1;33m[\u001b[0m\u001b[0mdf_new\u001b[0m\u001b[1;33m[\u001b[0m\u001b[1;34m'source'\u001b[0m\u001b[1;33m]\u001b[0m\u001b[1;33m==\u001b[0m\u001b[1;34m\"big_mart_sales_train.csv\"\u001b[0m\u001b[1;33m]\u001b[0m\u001b[1;33m\u001b[0m\u001b[1;33m\u001b[0m\u001b[0m\n\u001b[0m\u001b[0;32m      2\u001b[0m \u001b[0mtest\u001b[0m \u001b[1;33m=\u001b[0m \u001b[0mdf_new\u001b[0m\u001b[1;33m.\u001b[0m\u001b[0mloc\u001b[0m\u001b[1;33m[\u001b[0m\u001b[0mdf_new\u001b[0m\u001b[1;33m[\u001b[0m\u001b[1;34m'source'\u001b[0m\u001b[1;33m]\u001b[0m\u001b[1;33m==\u001b[0m\u001b[1;34m\"big_mart_sales_test.csv\"\u001b[0m\u001b[1;33m]\u001b[0m\u001b[1;31m#splitting the datasets\u001b[0m\u001b[1;33m\u001b[0m\u001b[1;33m\u001b[0m\u001b[0m\n",
      "\u001b[1;31mNameError\u001b[0m: name 'df_new' is not defined"
     ]
    }
   ],
   "source": [
    "# train = df_new.loc[df_new['source']==\"big_mart_sales_train.csv\"]\n",
    "# test = df_new.loc[df_new['source']==\"big_mart_sales_test.csv\"]#splitting the datasets"
   ]
  },
  {
   "cell_type": "code",
   "execution_count": 312,
   "metadata": {},
   "outputs": [],
   "source": [
    "# test.drop(['Item_Outlet_Sales','source'])\n",
    "# train.drop(['source'],axis=1,inplace=True)"
   ]
  },
  {
   "cell_type": "code",
   "execution_count": 201,
   "metadata": {},
   "outputs": [],
   "source": [
    "# train.to_csv(\"train_modified.csv\",index=False)\n",
    "# test.to_csv(\"test_modified.csv\",index=False)# save the modified model of splitted datasets"
   ]
  },
  {
   "cell_type": "code",
   "execution_count": 204,
   "metadata": {},
   "outputs": [],
   "source": [
    "# df1=pd.read_csv('train_modified.csv')"
   ]
  },
  {
   "cell_type": "code",
   "execution_count": 313,
   "metadata": {},
   "outputs": [
    {
     "data": {
      "text/html": [
       "<div>\n",
       "<style scoped>\n",
       "    .dataframe tbody tr th:only-of-type {\n",
       "        vertical-align: middle;\n",
       "    }\n",
       "\n",
       "    .dataframe tbody tr th {\n",
       "        vertical-align: top;\n",
       "    }\n",
       "\n",
       "    .dataframe thead th {\n",
       "        text-align: right;\n",
       "    }\n",
       "</style>\n",
       "<table border=\"1\" class=\"dataframe\">\n",
       "  <thead>\n",
       "    <tr style=\"text-align: right;\">\n",
       "      <th></th>\n",
       "      <th>Item_Weight</th>\n",
       "      <th>Item_Fat_Content</th>\n",
       "      <th>Item_Visibility</th>\n",
       "      <th>Item_Type</th>\n",
       "      <th>Item_MRP</th>\n",
       "      <th>Outlet_Identifier</th>\n",
       "      <th>Outlet_Establishment_Year</th>\n",
       "      <th>Outlet_Size</th>\n",
       "      <th>Outlet_Location_Type</th>\n",
       "      <th>Outlet_Type</th>\n",
       "      <th>Item_Outlet_Sales</th>\n",
       "    </tr>\n",
       "  </thead>\n",
       "  <tbody>\n",
       "    <tr>\n",
       "      <th>0</th>\n",
       "      <td>9.30</td>\n",
       "      <td>0</td>\n",
       "      <td>0.016047</td>\n",
       "      <td>4</td>\n",
       "      <td>249.8092</td>\n",
       "      <td>9</td>\n",
       "      <td>1999</td>\n",
       "      <td>1</td>\n",
       "      <td>0</td>\n",
       "      <td>1</td>\n",
       "      <td>3735.138000</td>\n",
       "    </tr>\n",
       "    <tr>\n",
       "      <th>1</th>\n",
       "      <td>5.92</td>\n",
       "      <td>1</td>\n",
       "      <td>0.019278</td>\n",
       "      <td>14</td>\n",
       "      <td>48.2692</td>\n",
       "      <td>3</td>\n",
       "      <td>2009</td>\n",
       "      <td>1</td>\n",
       "      <td>2</td>\n",
       "      <td>2</td>\n",
       "      <td>443.422800</td>\n",
       "    </tr>\n",
       "    <tr>\n",
       "      <th>2</th>\n",
       "      <td>17.50</td>\n",
       "      <td>0</td>\n",
       "      <td>0.016760</td>\n",
       "      <td>10</td>\n",
       "      <td>141.6180</td>\n",
       "      <td>9</td>\n",
       "      <td>1999</td>\n",
       "      <td>1</td>\n",
       "      <td>0</td>\n",
       "      <td>1</td>\n",
       "      <td>2097.270000</td>\n",
       "    </tr>\n",
       "    <tr>\n",
       "      <th>3</th>\n",
       "      <td>19.20</td>\n",
       "      <td>1</td>\n",
       "      <td>0.000000</td>\n",
       "      <td>6</td>\n",
       "      <td>182.0950</td>\n",
       "      <td>0</td>\n",
       "      <td>1998</td>\n",
       "      <td>1</td>\n",
       "      <td>2</td>\n",
       "      <td>0</td>\n",
       "      <td>732.380000</td>\n",
       "    </tr>\n",
       "    <tr>\n",
       "      <th>4</th>\n",
       "      <td>8.93</td>\n",
       "      <td>0</td>\n",
       "      <td>0.000000</td>\n",
       "      <td>9</td>\n",
       "      <td>53.8614</td>\n",
       "      <td>1</td>\n",
       "      <td>1987</td>\n",
       "      <td>0</td>\n",
       "      <td>2</td>\n",
       "      <td>1</td>\n",
       "      <td>994.705200</td>\n",
       "    </tr>\n",
       "    <tr>\n",
       "      <th>...</th>\n",
       "      <td>...</td>\n",
       "      <td>...</td>\n",
       "      <td>...</td>\n",
       "      <td>...</td>\n",
       "      <td>...</td>\n",
       "      <td>...</td>\n",
       "      <td>...</td>\n",
       "      <td>...</td>\n",
       "      <td>...</td>\n",
       "      <td>...</td>\n",
       "      <td>...</td>\n",
       "    </tr>\n",
       "    <tr>\n",
       "      <th>14199</th>\n",
       "      <td>10.50</td>\n",
       "      <td>1</td>\n",
       "      <td>0.013496</td>\n",
       "      <td>13</td>\n",
       "      <td>141.3154</td>\n",
       "      <td>8</td>\n",
       "      <td>1997</td>\n",
       "      <td>2</td>\n",
       "      <td>0</td>\n",
       "      <td>1</td>\n",
       "      <td>2181.288914</td>\n",
       "    </tr>\n",
       "    <tr>\n",
       "      <th>14200</th>\n",
       "      <td>7.60</td>\n",
       "      <td>1</td>\n",
       "      <td>0.142991</td>\n",
       "      <td>15</td>\n",
       "      <td>169.1448</td>\n",
       "      <td>3</td>\n",
       "      <td>2009</td>\n",
       "      <td>1</td>\n",
       "      <td>2</td>\n",
       "      <td>2</td>\n",
       "      <td>2181.288914</td>\n",
       "    </tr>\n",
       "    <tr>\n",
       "      <th>14201</th>\n",
       "      <td>10.00</td>\n",
       "      <td>0</td>\n",
       "      <td>0.073529</td>\n",
       "      <td>8</td>\n",
       "      <td>118.7440</td>\n",
       "      <td>7</td>\n",
       "      <td>2002</td>\n",
       "      <td>1</td>\n",
       "      <td>1</td>\n",
       "      <td>1</td>\n",
       "      <td>2181.288914</td>\n",
       "    </tr>\n",
       "    <tr>\n",
       "      <th>14202</th>\n",
       "      <td>15.30</td>\n",
       "      <td>1</td>\n",
       "      <td>0.000000</td>\n",
       "      <td>3</td>\n",
       "      <td>214.6218</td>\n",
       "      <td>2</td>\n",
       "      <td>2007</td>\n",
       "      <td>1</td>\n",
       "      <td>1</td>\n",
       "      <td>1</td>\n",
       "      <td>2181.288914</td>\n",
       "    </tr>\n",
       "    <tr>\n",
       "      <th>14203</th>\n",
       "      <td>9.50</td>\n",
       "      <td>1</td>\n",
       "      <td>0.104720</td>\n",
       "      <td>3</td>\n",
       "      <td>79.7960</td>\n",
       "      <td>7</td>\n",
       "      <td>2002</td>\n",
       "      <td>1</td>\n",
       "      <td>1</td>\n",
       "      <td>1</td>\n",
       "      <td>2181.288914</td>\n",
       "    </tr>\n",
       "  </tbody>\n",
       "</table>\n",
       "<p>14204 rows × 11 columns</p>\n",
       "</div>"
      ],
      "text/plain": [
       "       Item_Weight  Item_Fat_Content  Item_Visibility  Item_Type  Item_MRP  \\\n",
       "0             9.30                 0         0.016047          4  249.8092   \n",
       "1             5.92                 1         0.019278         14   48.2692   \n",
       "2            17.50                 0         0.016760         10  141.6180   \n",
       "3            19.20                 1         0.000000          6  182.0950   \n",
       "4             8.93                 0         0.000000          9   53.8614   \n",
       "...            ...               ...              ...        ...       ...   \n",
       "14199        10.50                 1         0.013496         13  141.3154   \n",
       "14200         7.60                 1         0.142991         15  169.1448   \n",
       "14201        10.00                 0         0.073529          8  118.7440   \n",
       "14202        15.30                 1         0.000000          3  214.6218   \n",
       "14203         9.50                 1         0.104720          3   79.7960   \n",
       "\n",
       "       Outlet_Identifier  Outlet_Establishment_Year  Outlet_Size  \\\n",
       "0                      9                       1999            1   \n",
       "1                      3                       2009            1   \n",
       "2                      9                       1999            1   \n",
       "3                      0                       1998            1   \n",
       "4                      1                       1987            0   \n",
       "...                  ...                        ...          ...   \n",
       "14199                  8                       1997            2   \n",
       "14200                  3                       2009            1   \n",
       "14201                  7                       2002            1   \n",
       "14202                  2                       2007            1   \n",
       "14203                  7                       2002            1   \n",
       "\n",
       "       Outlet_Location_Type  Outlet_Type  Item_Outlet_Sales  \n",
       "0                         0            1        3735.138000  \n",
       "1                         2            2         443.422800  \n",
       "2                         0            1        2097.270000  \n",
       "3                         2            0         732.380000  \n",
       "4                         2            1         994.705200  \n",
       "...                     ...          ...                ...  \n",
       "14199                     0            1        2181.288914  \n",
       "14200                     2            2        2181.288914  \n",
       "14201                     1            1        2181.288914  \n",
       "14202                     1            1        2181.288914  \n",
       "14203                     1            1        2181.288914  \n",
       "\n",
       "[14204 rows x 11 columns]"
      ]
     },
     "execution_count": 313,
     "metadata": {},
     "output_type": "execute_result"
    }
   ],
   "source": []
  },
  {
   "cell_type": "code",
   "execution_count": 314,
   "metadata": {},
   "outputs": [],
   "source": [
    "x=df.drop([\"Item_Outlet_Sales\"], axis = 1) # we need not to use inplace as we are storing it in variable\n",
    "y = df[[\"Item_Outlet_Sales\"]]"
   ]
  },
  {
   "cell_type": "code",
   "execution_count": 318,
   "metadata": {},
   "outputs": [
    {
     "data": {
      "text/plain": [
       "((14204,), (14204, 10))"
      ]
     },
     "execution_count": 318,
     "metadata": {},
     "output_type": "execute_result"
    }
   ],
   "source": [
    "y.shape, x.shape"
   ]
  },
  {
   "cell_type": "code",
   "execution_count": 319,
   "metadata": {},
   "outputs": [],
   "source": [
    "# y=df1.iloc[:,-2]\n",
    "# y.head()"
   ]
  },
  {
   "cell_type": "code",
   "execution_count": 320,
   "metadata": {},
   "outputs": [],
   "source": [
    "from sklearn.model_selection import train_test_split # either use this split, or use the seperate files already provided, dont use both"
   ]
  },
  {
   "cell_type": "code",
   "execution_count": 321,
   "metadata": {},
   "outputs": [],
   "source": [
    "x_train,x_test,y_train,y_test=train_test_split(x,y,random_state=93,test_size=0.24)"
   ]
  },
  {
   "cell_type": "code",
   "execution_count": 329,
   "metadata": {},
   "outputs": [
    {
     "name": "stdout",
     "output_type": "stream",
     "text": [
      "r2_score corresponding to random state;  42  is:  0.290642754495239\n",
      "r2_score corresponding to random state;  43  is:  0.310952202833611\n",
      "r2_score corresponding to random state;  44  is:  0.2858241766474857\n",
      "r2_score corresponding to random state;  45  is:  0.2769518399164437\n",
      "r2_score corresponding to random state;  46  is:  0.32672043443209386\n",
      "r2_score corresponding to random state;  47  is:  0.30936661797150244\n",
      "r2_score corresponding to random state;  48  is:  0.30813001081451064\n",
      "r2_score corresponding to random state;  49  is:  0.3030194563028913\n",
      "r2_score corresponding to random state;  50  is:  0.30944808832988957\n",
      "r2_score corresponding to random state;  51  is:  0.2987017622470485\n",
      "r2_score corresponding to random state;  52  is:  0.3049124454191392\n",
      "r2_score corresponding to random state;  53  is:  0.2898033196106887\n",
      "r2_score corresponding to random state;  54  is:  0.3081945896183105\n",
      "r2_score corresponding to random state;  55  is:  0.2864130310362931\n",
      "r2_score corresponding to random state;  56  is:  0.309200825615102\n",
      "r2_score corresponding to random state;  57  is:  0.29472597255379585\n",
      "r2_score corresponding to random state;  58  is:  0.2976376167943533\n",
      "r2_score corresponding to random state;  59  is:  0.288934467444538\n",
      "r2_score corresponding to random state;  60  is:  0.30391568199755614\n",
      "r2_score corresponding to random state;  61  is:  0.2968856171479455\n",
      "r2_score corresponding to random state;  62  is:  0.31737631494175333\n",
      "r2_score corresponding to random state;  63  is:  0.2954145521662149\n",
      "r2_score corresponding to random state;  64  is:  0.3106903627072177\n",
      "r2_score corresponding to random state;  65  is:  0.30492024029414055\n",
      "r2_score corresponding to random state;  66  is:  0.3367228969377849\n",
      "r2_score corresponding to random state;  67  is:  0.29103619635303624\n",
      "r2_score corresponding to random state;  68  is:  0.3159863781731487\n",
      "r2_score corresponding to random state;  69  is:  0.30358596339424826\n",
      "r2_score corresponding to random state;  70  is:  0.2885813869961642\n",
      "r2_score corresponding to random state;  71  is:  0.29781373133781586\n",
      "r2_score corresponding to random state;  72  is:  0.306845319090961\n",
      "r2_score corresponding to random state;  73  is:  0.32154830058936124\n",
      "r2_score corresponding to random state;  74  is:  0.30206050751276414\n",
      "r2_score corresponding to random state;  75  is:  0.28671863145856047\n",
      "r2_score corresponding to random state;  76  is:  0.3060878268096652\n",
      "r2_score corresponding to random state;  77  is:  0.2918001446037026\n",
      "r2_score corresponding to random state;  78  is:  0.3072808714145482\n",
      "r2_score corresponding to random state;  79  is:  0.328843386086183\n",
      "r2_score corresponding to random state;  80  is:  0.3050377474446042\n",
      "r2_score corresponding to random state;  81  is:  0.2872883077880727\n",
      "r2_score corresponding to random state;  82  is:  0.30881714914713865\n",
      "r2_score corresponding to random state;  83  is:  0.3113506054507893\n",
      "r2_score corresponding to random state;  84  is:  0.2930105382952908\n",
      "r2_score corresponding to random state;  85  is:  0.3076246371677672\n",
      "r2_score corresponding to random state;  86  is:  0.30613297649321103\n",
      "r2_score corresponding to random state;  87  is:  0.2911065508609634\n",
      "r2_score corresponding to random state;  88  is:  0.32397436343238795\n",
      "r2_score corresponding to random state;  89  is:  0.3143591137764443\n",
      "r2_score corresponding to random state;  90  is:  0.31390651675832926\n",
      "r2_score corresponding to random state;  91  is:  0.3056926976925859\n",
      "r2_score corresponding to random state;  92  is:  0.28886377338417446\n",
      "r2_score corresponding to random state;  93  is:  0.28993147248656626\n",
      "r2_score corresponding to random state;  94  is:  0.3042694397311413\n",
      "r2_score corresponding to random state;  95  is:  0.28781532196993953\n",
      "r2_score corresponding to random state;  96  is:  0.30683569808885636\n",
      "r2_score corresponding to random state;  97  is:  0.2962393412860722\n",
      "r2_score corresponding to random state;  98  is:  0.30094669541794516\n",
      "r2_score corresponding to random state;  99  is:  0.306011626678915\n",
      "r2_score corresponding to random state;  100  is:  0.3023947331342489\n",
      "max r2 score corresponding to  66  is  0.3367228969377849\n"
     ]
    }
   ],
   "source": [
    "import sklearn\n",
    "from sklearn import linear_model\n",
    "from sklearn.linear_model import LinearRegression\n",
    "from sklearn.metrics import mean_squared_error,mean_absolute_error,r2_score\n",
    "from sklearn.model_selection import train_test_split\n",
    "lm = LinearRegression()\n",
    "def maxr2_score(lm,x,y):\n",
    "    max_r_score=0\n",
    "    final_r_state = 0\n",
    "    for r_state in range(42,101):\n",
    "        x_train,x_test,y_train,y_test=train_test_split(x,y,random_state=r_state,test_size=0.24)\n",
    "        lm=LinearRegression()\n",
    "        lm.fit(x_train,y_train)\n",
    "        y_pred=lm.predict(x_test)\n",
    "        r2_scr=r2_score(y_test,y_pred)\n",
    "        print('r2_score corresponding to random state; ',r_state,' is: ',r2_scr)\n",
    "        if r2_scr>max_r_score:\n",
    "            max_r_score=r2_scr\n",
    "            final_r_state=r_state\n",
    "\n",
    "    print('max r2 score corresponding to ',final_r_state,' is ',max_r_score)\n",
    "# calling the function \n",
    "maxr2_score(lm,x,y)"
   ]
  },
  {
   "cell_type": "code",
   "execution_count": 330,
   "metadata": {},
   "outputs": [
    {
     "data": {
      "text/plain": [
       "{'n_neighbors': 29}"
      ]
     },
     "execution_count": 330,
     "metadata": {},
     "output_type": "execute_result"
    }
   ],
   "source": [
    "from sklearn.model_selection import GridSearchCV\n",
    "from sklearn.neighbors import KNeighborsRegressor\n",
    "neighbors={\"n_neighbors\":range(1,30)}\n",
    "knr_1=KNeighborsRegressor()\n",
    "gknr=GridSearchCV(knr_1, neighbors, cv=10)\n",
    "gknr.fit(x,y)\n",
    "gknr.best_params_"
   ]
  },
  {
   "cell_type": "code",
   "execution_count": 331,
   "metadata": {},
   "outputs": [
    {
     "name": "stdout",
     "output_type": "stream",
     "text": [
      "r2_score corresponding to random state;  42  is:  0.290642754495239\n",
      "r2_score corresponding to random state;  43  is:  0.310952202833611\n",
      "r2_score corresponding to random state;  44  is:  0.2858241766474857\n",
      "r2_score corresponding to random state;  45  is:  0.2769518399164437\n",
      "r2_score corresponding to random state;  46  is:  0.32672043443209386\n",
      "r2_score corresponding to random state;  47  is:  0.30936661797150244\n",
      "r2_score corresponding to random state;  48  is:  0.30813001081451064\n",
      "r2_score corresponding to random state;  49  is:  0.3030194563028913\n",
      "r2_score corresponding to random state;  50  is:  0.30944808832988957\n",
      "r2_score corresponding to random state;  51  is:  0.2987017622470485\n",
      "r2_score corresponding to random state;  52  is:  0.3049124454191392\n",
      "r2_score corresponding to random state;  53  is:  0.2898033196106887\n",
      "r2_score corresponding to random state;  54  is:  0.3081945896183105\n",
      "r2_score corresponding to random state;  55  is:  0.2864130310362931\n",
      "r2_score corresponding to random state;  56  is:  0.309200825615102\n",
      "r2_score corresponding to random state;  57  is:  0.29472597255379585\n",
      "r2_score corresponding to random state;  58  is:  0.2976376167943533\n",
      "r2_score corresponding to random state;  59  is:  0.288934467444538\n",
      "r2_score corresponding to random state;  60  is:  0.30391568199755614\n",
      "r2_score corresponding to random state;  61  is:  0.2968856171479455\n",
      "r2_score corresponding to random state;  62  is:  0.31737631494175333\n",
      "r2_score corresponding to random state;  63  is:  0.2954145521662149\n",
      "r2_score corresponding to random state;  64  is:  0.3106903627072177\n",
      "r2_score corresponding to random state;  65  is:  0.30492024029414055\n",
      "r2_score corresponding to random state;  66  is:  0.3367228969377849\n",
      "r2_score corresponding to random state;  67  is:  0.29103619635303624\n",
      "r2_score corresponding to random state;  68  is:  0.3159863781731487\n",
      "r2_score corresponding to random state;  69  is:  0.30358596339424826\n",
      "r2_score corresponding to random state;  70  is:  0.2885813869961642\n",
      "r2_score corresponding to random state;  71  is:  0.29781373133781586\n",
      "r2_score corresponding to random state;  72  is:  0.306845319090961\n",
      "r2_score corresponding to random state;  73  is:  0.32154830058936124\n",
      "r2_score corresponding to random state;  74  is:  0.30206050751276414\n",
      "r2_score corresponding to random state;  75  is:  0.28671863145856047\n",
      "r2_score corresponding to random state;  76  is:  0.3060878268096652\n",
      "r2_score corresponding to random state;  77  is:  0.2918001446037026\n",
      "r2_score corresponding to random state;  78  is:  0.3072808714145482\n",
      "r2_score corresponding to random state;  79  is:  0.328843386086183\n",
      "r2_score corresponding to random state;  80  is:  0.3050377474446042\n",
      "r2_score corresponding to random state;  81  is:  0.2872883077880727\n",
      "r2_score corresponding to random state;  82  is:  0.30881714914713865\n",
      "r2_score corresponding to random state;  83  is:  0.3113506054507893\n",
      "r2_score corresponding to random state;  84  is:  0.2930105382952908\n",
      "r2_score corresponding to random state;  85  is:  0.3076246371677672\n",
      "r2_score corresponding to random state;  86  is:  0.30613297649321103\n",
      "r2_score corresponding to random state;  87  is:  0.2911065508609634\n",
      "r2_score corresponding to random state;  88  is:  0.32397436343238795\n",
      "r2_score corresponding to random state;  89  is:  0.3143591137764443\n",
      "r2_score corresponding to random state;  90  is:  0.31390651675832926\n",
      "r2_score corresponding to random state;  91  is:  0.3056926976925859\n",
      "r2_score corresponding to random state;  92  is:  0.28886377338417446\n",
      "r2_score corresponding to random state;  93  is:  0.28993147248656626\n",
      "r2_score corresponding to random state;  94  is:  0.3042694397311413\n",
      "r2_score corresponding to random state;  95  is:  0.28781532196993953\n",
      "r2_score corresponding to random state;  96  is:  0.30683569808885636\n",
      "r2_score corresponding to random state;  97  is:  0.2962393412860722\n",
      "r2_score corresponding to random state;  98  is:  0.30094669541794516\n",
      "r2_score corresponding to random state;  99  is:  0.306011626678915\n",
      "r2_score corresponding to random state;  100  is:  0.3023947331342489\n",
      "max r2 score corresponding to  66  is  0.3367228969377849\n"
     ]
    }
   ],
   "source": [
    "#using knr to check r2 score at different random states\n",
    "knr=KNeighborsRegressor(n_neighbors=29) \n",
    "r_state=maxr2_score(knr,x,y)"
   ]
  },
  {
   "cell_type": "code",
   "execution_count": 334,
   "metadata": {},
   "outputs": [
    {
     "name": "stdout",
     "output_type": "stream",
     "text": [
      "Mean r2 score for Linear Regression:  -1.6164140955168262e+30\n",
      "Standard deviation in r2 score for Linear Regression:  1.9797364352656404e+30\n",
      "\n",
      "Mean r2 score for KNN Regression:  -1.5132199290201075e+30\n",
      "Standard deviation in r2 score for KNN Regression:  1.8536685773309964e+30\n"
     ]
    }
   ],
   "source": [
    "#cross validation\n",
    "from sklearn.model_selection import cross_val_score\n",
    "print('Mean r2 score for Linear Regression: ',cross_val_score(lm,x,y,cv=5,scoring='r2').mean())\n",
    "print('Standard deviation in r2 score for Linear Regression: ',cross_val_score(lm,x,y,cv=5,scoring='r2').std())\n",
    "print()\n",
    "print('Mean r2 score for KNN Regression: ',cross_val_score(knr,x,y,cv=5,scoring='r2').mean())\n",
    "print('Standard deviation in r2 score for KNN Regression: ',cross_val_score(knr,x,y,cv=5,scoring='r2').std())"
   ]
  },
  {
   "cell_type": "code",
   "execution_count": 332,
   "metadata": {},
   "outputs": [
    {
     "data": {
      "text/plain": [
       "{'alpha': 1}"
      ]
     },
     "execution_count": 332,
     "metadata": {},
     "output_type": "execute_result"
    }
   ],
   "source": [
    "from sklearn.linear_model import Lasso\n",
    "lsreg=Lasso()\n",
    "parameters={\"alpha\":[0.001,0.01,0.1,1]}\n",
    "clf=GridSearchCV(lsreg, parameters, cv=10)\n",
    "clf.fit(x,y)\n",
    "clf.best_params_"
   ]
  },
  {
   "cell_type": "code",
   "execution_count": 333,
   "metadata": {},
   "outputs": [
    {
     "name": "stdout",
     "output_type": "stream",
     "text": [
      "r2_score corresponding to random state;  42  is:  0.290642754495239\n",
      "r2_score corresponding to random state;  43  is:  0.310952202833611\n",
      "r2_score corresponding to random state;  44  is:  0.2858241766474857\n",
      "r2_score corresponding to random state;  45  is:  0.2769518399164437\n",
      "r2_score corresponding to random state;  46  is:  0.32672043443209386\n",
      "r2_score corresponding to random state;  47  is:  0.30936661797150244\n",
      "r2_score corresponding to random state;  48  is:  0.30813001081451064\n",
      "r2_score corresponding to random state;  49  is:  0.3030194563028913\n",
      "r2_score corresponding to random state;  50  is:  0.30944808832988957\n",
      "r2_score corresponding to random state;  51  is:  0.2987017622470485\n",
      "r2_score corresponding to random state;  52  is:  0.3049124454191392\n",
      "r2_score corresponding to random state;  53  is:  0.2898033196106887\n",
      "r2_score corresponding to random state;  54  is:  0.3081945896183105\n",
      "r2_score corresponding to random state;  55  is:  0.2864130310362931\n",
      "r2_score corresponding to random state;  56  is:  0.309200825615102\n",
      "r2_score corresponding to random state;  57  is:  0.29472597255379585\n",
      "r2_score corresponding to random state;  58  is:  0.2976376167943533\n",
      "r2_score corresponding to random state;  59  is:  0.288934467444538\n",
      "r2_score corresponding to random state;  60  is:  0.30391568199755614\n",
      "r2_score corresponding to random state;  61  is:  0.2968856171479455\n",
      "r2_score corresponding to random state;  62  is:  0.31737631494175333\n",
      "r2_score corresponding to random state;  63  is:  0.2954145521662149\n",
      "r2_score corresponding to random state;  64  is:  0.3106903627072177\n",
      "r2_score corresponding to random state;  65  is:  0.30492024029414055\n",
      "r2_score corresponding to random state;  66  is:  0.3367228969377849\n",
      "r2_score corresponding to random state;  67  is:  0.29103619635303624\n",
      "r2_score corresponding to random state;  68  is:  0.3159863781731487\n",
      "r2_score corresponding to random state;  69  is:  0.30358596339424826\n",
      "r2_score corresponding to random state;  70  is:  0.2885813869961642\n",
      "r2_score corresponding to random state;  71  is:  0.29781373133781586\n",
      "r2_score corresponding to random state;  72  is:  0.306845319090961\n",
      "r2_score corresponding to random state;  73  is:  0.32154830058936124\n",
      "r2_score corresponding to random state;  74  is:  0.30206050751276414\n",
      "r2_score corresponding to random state;  75  is:  0.28671863145856047\n",
      "r2_score corresponding to random state;  76  is:  0.3060878268096652\n",
      "r2_score corresponding to random state;  77  is:  0.2918001446037026\n",
      "r2_score corresponding to random state;  78  is:  0.3072808714145482\n",
      "r2_score corresponding to random state;  79  is:  0.328843386086183\n",
      "r2_score corresponding to random state;  80  is:  0.3050377474446042\n",
      "r2_score corresponding to random state;  81  is:  0.2872883077880727\n",
      "r2_score corresponding to random state;  82  is:  0.30881714914713865\n",
      "r2_score corresponding to random state;  83  is:  0.3113506054507893\n",
      "r2_score corresponding to random state;  84  is:  0.2930105382952908\n",
      "r2_score corresponding to random state;  85  is:  0.3076246371677672\n",
      "r2_score corresponding to random state;  86  is:  0.30613297649321103\n",
      "r2_score corresponding to random state;  87  is:  0.2911065508609634\n",
      "r2_score corresponding to random state;  88  is:  0.32397436343238795\n",
      "r2_score corresponding to random state;  89  is:  0.3143591137764443\n",
      "r2_score corresponding to random state;  90  is:  0.31390651675832926\n",
      "r2_score corresponding to random state;  91  is:  0.3056926976925859\n",
      "r2_score corresponding to random state;  92  is:  0.28886377338417446\n",
      "r2_score corresponding to random state;  93  is:  0.28993147248656626\n",
      "r2_score corresponding to random state;  94  is:  0.3042694397311413\n",
      "r2_score corresponding to random state;  95  is:  0.28781532196993953\n",
      "r2_score corresponding to random state;  96  is:  0.30683569808885636\n",
      "r2_score corresponding to random state;  97  is:  0.2962393412860722\n",
      "r2_score corresponding to random state;  98  is:  0.30094669541794516\n",
      "r2_score corresponding to random state;  99  is:  0.306011626678915\n",
      "r2_score corresponding to random state;  100  is:  0.3023947331342489\n",
      "max r2 score corresponding to  66  is  0.3367228969377849\n"
     ]
    }
   ],
   "source": [
    "#using lasso to check max r2 score at best alpha value\n",
    "lsreg=Lasso(alpha=1)\n",
    "r_state=maxr2_score(lsreg,x,y)"
   ]
  },
  {
   "cell_type": "code",
   "execution_count": 335,
   "metadata": {},
   "outputs": [
    {
     "name": "stdout",
     "output_type": "stream",
     "text": [
      "Mean r2 score for Lasso Regression:  -1.6084618833981866e+30\n",
      "Standard deviation in r2 score for Lasso Regression:  1.9700250894797115e+30\n"
     ]
    }
   ],
   "source": [
    "#cross validation with lasso\n",
    "print('Mean r2 score for Lasso Regression: ',cross_val_score(lsreg,x,y,cv=5,scoring='r2').mean())\n",
    "print('Standard deviation in r2 score for Lasso Regression: ',cross_val_score(lsreg,x,y,cv=5,scoring='r2').std())"
   ]
  },
  {
   "cell_type": "code",
   "execution_count": 336,
   "metadata": {},
   "outputs": [
    {
     "data": {
      "text/plain": [
       "{'learning_rate': 0.001, 'n_estimators': 10}"
      ]
     },
     "execution_count": 336,
     "metadata": {},
     "output_type": "execute_result"
    }
   ],
   "source": [
    "from sklearn.ensemble import GradientBoostingRegressor\n",
    "import warnings\n",
    "warnings.filterwarnings('ignore')\n",
    "gbr=GradientBoostingRegressor()\n",
    "params={'n_estimators':[10,100,500,1000],'learning_rate':[0.001,0.01,0.1,1]}\n",
    "clf=GridSearchCV(gbr, params, cv=5)\n",
    "clf.fit(x,y)\n",
    "clf.best_params_"
   ]
  },
  {
   "cell_type": "code",
   "execution_count": 337,
   "metadata": {},
   "outputs": [
    {
     "name": "stdout",
     "output_type": "stream",
     "text": [
      "Mean r2 score for GradientBoostingRegression:  -1.6084618833981866e+30\n",
      "Standard deviation in r2 score for GradientBoostingRegression:  1.9700250894797115e+30\n"
     ]
    }
   ],
   "source": [
    "#cross validation with gbr\n",
    "gbr=GradientBoostingRegressor(learning_rate=0.001,n_estimators=10)\n",
    "print('Mean r2 score for GradientBoostingRegression: ',cross_val_score(lsreg,x,y,cv=5,scoring='r2').mean())\n",
    "print('Standard deviation in r2 score for GradientBoostingRegression: ',cross_val_score(lsreg,x,y,cv=5,scoring='r2').std())\n"
   ]
  },
  {
   "cell_type": "code",
   "execution_count": 338,
   "metadata": {},
   "outputs": [
    {
     "data": {
      "text/plain": [
       "{'base_estimator': Lasso(alpha=1, copy_X=True, fit_intercept=True, max_iter=1000, normalize=False,\n",
       "       positive=False, precompute=False, random_state=None, selection='cyclic',\n",
       "       tol=0.0001, warm_start=False),\n",
       " 'learning_rate': 0.001,\n",
       " 'n_estimators': 10}"
      ]
     },
     "execution_count": 338,
     "metadata": {},
     "output_type": "execute_result"
    }
   ],
   "source": [
    "from sklearn.ensemble import AdaBoostRegressor\n",
    "from sklearn.tree import DecisionTreeRegressor\n",
    "ada_reg=AdaBoostRegressor()\n",
    "parameters={'n_estimators':[10,100,500,1000],'learning_rate':[0.001,0.01,0.1,1],'base_estimator':[lm,lsreg,DecisionTreeRegressor()]}\n",
    "clf=GridSearchCV(ada_reg, parameters, cv=10)\n",
    "clf.fit(x,y)\n",
    "clf.best_params_"
   ]
  },
  {
   "cell_type": "code",
   "execution_count": 339,
   "metadata": {},
   "outputs": [
    {
     "name": "stdout",
     "output_type": "stream",
     "text": [
      "Mean r2 score for AdaBoostRegression:  nan\n",
      "Standard deviation in r2 score for AdaBoostRegression:  nan\n"
     ]
    }
   ],
   "source": [
    "#cross validation with AdaBoost\n",
    "ada_reg=AdaBoostRegressor(base_estimator=DecisionTreeRegressor,learning_rate=0.001,n_estimators=10)\n",
    "print('Mean r2 score for AdaBoostRegression: ',cross_val_score(ada_reg,x,y,cv=5,scoring='r2').mean())\n",
    "print('Standard deviation in r2 score for AdaBoostRegression: ',cross_val_score(ada_reg,x,y,cv=5,scoring='r2').std())"
   ]
  },
  {
   "cell_type": "code",
   "execution_count": 340,
   "metadata": {},
   "outputs": [
    {
     "name": "stdout",
     "output_type": "stream",
     "text": [
      "r2_score corresponding to random state;  42  is:  0.290642754495239\n",
      "r2_score corresponding to random state;  43  is:  0.310952202833611\n",
      "r2_score corresponding to random state;  44  is:  0.2858241766474857\n",
      "r2_score corresponding to random state;  45  is:  0.2769518399164437\n",
      "r2_score corresponding to random state;  46  is:  0.32672043443209386\n",
      "r2_score corresponding to random state;  47  is:  0.30936661797150244\n",
      "r2_score corresponding to random state;  48  is:  0.30813001081451064\n",
      "r2_score corresponding to random state;  49  is:  0.3030194563028913\n",
      "r2_score corresponding to random state;  50  is:  0.30944808832988957\n",
      "r2_score corresponding to random state;  51  is:  0.2987017622470485\n",
      "r2_score corresponding to random state;  52  is:  0.3049124454191392\n",
      "r2_score corresponding to random state;  53  is:  0.2898033196106887\n",
      "r2_score corresponding to random state;  54  is:  0.3081945896183105\n",
      "r2_score corresponding to random state;  55  is:  0.2864130310362931\n",
      "r2_score corresponding to random state;  56  is:  0.309200825615102\n",
      "r2_score corresponding to random state;  57  is:  0.29472597255379585\n",
      "r2_score corresponding to random state;  58  is:  0.2976376167943533\n",
      "r2_score corresponding to random state;  59  is:  0.288934467444538\n",
      "r2_score corresponding to random state;  60  is:  0.30391568199755614\n",
      "r2_score corresponding to random state;  61  is:  0.2968856171479455\n",
      "r2_score corresponding to random state;  62  is:  0.31737631494175333\n",
      "r2_score corresponding to random state;  63  is:  0.2954145521662149\n",
      "r2_score corresponding to random state;  64  is:  0.3106903627072177\n",
      "r2_score corresponding to random state;  65  is:  0.30492024029414055\n",
      "r2_score corresponding to random state;  66  is:  0.3367228969377849\n",
      "r2_score corresponding to random state;  67  is:  0.29103619635303624\n",
      "r2_score corresponding to random state;  68  is:  0.3159863781731487\n",
      "r2_score corresponding to random state;  69  is:  0.30358596339424826\n",
      "r2_score corresponding to random state;  70  is:  0.2885813869961642\n",
      "r2_score corresponding to random state;  71  is:  0.29781373133781586\n",
      "r2_score corresponding to random state;  72  is:  0.306845319090961\n",
      "r2_score corresponding to random state;  73  is:  0.32154830058936124\n",
      "r2_score corresponding to random state;  74  is:  0.30206050751276414\n",
      "r2_score corresponding to random state;  75  is:  0.28671863145856047\n",
      "r2_score corresponding to random state;  76  is:  0.3060878268096652\n",
      "r2_score corresponding to random state;  77  is:  0.2918001446037026\n",
      "r2_score corresponding to random state;  78  is:  0.3072808714145482\n",
      "r2_score corresponding to random state;  79  is:  0.328843386086183\n",
      "r2_score corresponding to random state;  80  is:  0.3050377474446042\n",
      "r2_score corresponding to random state;  81  is:  0.2872883077880727\n",
      "r2_score corresponding to random state;  82  is:  0.30881714914713865\n",
      "r2_score corresponding to random state;  83  is:  0.3113506054507893\n",
      "r2_score corresponding to random state;  84  is:  0.2930105382952908\n",
      "r2_score corresponding to random state;  85  is:  0.3076246371677672\n",
      "r2_score corresponding to random state;  86  is:  0.30613297649321103\n",
      "r2_score corresponding to random state;  87  is:  0.2911065508609634\n",
      "r2_score corresponding to random state;  88  is:  0.32397436343238795\n",
      "r2_score corresponding to random state;  89  is:  0.3143591137764443\n",
      "r2_score corresponding to random state;  90  is:  0.31390651675832926\n",
      "r2_score corresponding to random state;  91  is:  0.3056926976925859\n",
      "r2_score corresponding to random state;  92  is:  0.28886377338417446\n",
      "r2_score corresponding to random state;  93  is:  0.28993147248656626\n",
      "r2_score corresponding to random state;  94  is:  0.3042694397311413\n",
      "r2_score corresponding to random state;  95  is:  0.28781532196993953\n",
      "r2_score corresponding to random state;  96  is:  0.30683569808885636\n",
      "r2_score corresponding to random state;  97  is:  0.2962393412860722\n",
      "r2_score corresponding to random state;  98  is:  0.30094669541794516\n",
      "r2_score corresponding to random state;  99  is:  0.306011626678915\n",
      "r2_score corresponding to random state;  100  is:  0.3023947331342489\n",
      "max r2 score corresponding to  66  is  0.3367228969377849\n"
     ]
    }
   ],
   "source": [
    "ada_reg=AdaBoostRegressor(base_estimator=DecisionTreeRegressor,learning_rate=0.001,n_estimators=10)\n",
    "r_state=maxr2_score(ada_reg,x,y)"
   ]
  },
  {
   "cell_type": "code",
   "execution_count": null,
   "metadata": {},
   "outputs": [],
   "source": []
  }
 ],
 "metadata": {
  "kernelspec": {
   "display_name": "Python 3",
   "language": "python",
   "name": "python3"
  },
  "language_info": {
   "codemirror_mode": {
    "name": "ipython",
    "version": 3
   },
   "file_extension": ".py",
   "mimetype": "text/x-python",
   "name": "python",
   "nbconvert_exporter": "python",
   "pygments_lexer": "ipython3",
   "version": "3.7.6"
  }
 },
 "nbformat": 4,
 "nbformat_minor": 4
}
